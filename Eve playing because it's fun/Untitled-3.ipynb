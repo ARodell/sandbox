%matplotlib inline
# Dependencies and Setup
import os
import csv
import matplotlib.pyplot as plt
import pandas as pd
import numpy as np

# File to Load (Remember to change these)
#eb notes == the two dots helps you to nmove backward to different directory
city_data_to_load = "../data/city_data.csv"
ride_data_to_load = "data/ride_data.csv"

# Read the City and Ride Data
# EB NOTES =create the string of data
city_data = os.path.join("data", "city_data.csv")
ride_data = os.path.join("data", "ride_data.csv")
print(city_data)
# Combine the data into a single dataset
    #import file using panda
# EB notes = Read the file created
city_data_df = pd.read_csv(city_data)
#Preview city_data
#city_data_df.head()


# Get all tweets from home feed
public_tweets = api.home_timeline()
# Loop through all tweets
for tweet in public_tweets:
    # Utilize JSON dumps to generate a pretty-printed json
    print(json.dumps(tweet, sort_keys=True, indent=4))


    # Get all tweets from home feed
public_tweets = api.user_timeline()

# Loop through all tweets
for tweet in public_tweets:

    # Utilize JSON dumps to generate a pretty-printed json
    print(json.dumps(tweet, sort_keys=True, indent=4))